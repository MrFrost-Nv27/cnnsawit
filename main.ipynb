{
 "cells": [
  {
   "cell_type": "markdown",
   "metadata": {},
   "source": [
    "## Persiapan Dataset"
   ]
  },
  {
   "cell_type": "code",
   "execution_count": 1,
   "metadata": {},
   "outputs": [
    {
     "name": "stdout",
     "output_type": "stream",
     "text": [
      "Found 103 images belonging to 2 classes.\n",
      "Found 103 images belonging to 2 classes.\n",
      "['antraknosa', 'culvularia_sp']\n"
     ]
    }
   ],
   "source": [
    "import tensorflow as tf\n",
    "\n",
    "train_datagen = tf.keras.preprocessing.image.ImageDataGenerator(rescale = 1./255, shear_range = 0.2, zoom_range = 0.2, horizontal_flip = True, rotation_range=40, width_shift_range=0.2, height_shift_range=0.2, fill_mode='nearest')\n",
    "valid_datagen = tf.keras.preprocessing.image.ImageDataGenerator(rescale = 1./255)\n",
    "\n",
    "train_generator = train_datagen.flow_from_directory('flaskr/static/img/dataset', target_size = (256, 256), batch_size = 32, class_mode = 'categorical')\n",
    "valid_generator = valid_datagen.flow_from_directory('flaskr/static/img/dataset', target_size = (256, 256), batch_size = 32, class_mode = 'categorical')\n",
    "\n",
    "class_names = list(train_generator.class_indices.keys())\n",
    "print(class_names)"
   ]
  },
  {
   "cell_type": "markdown",
   "metadata": {},
   "source": [
    "## Persiapan Model"
   ]
  },
  {
   "cell_type": "code",
   "execution_count": 2,
   "metadata": {},
   "outputs": [
    {
     "name": "stderr",
     "output_type": "stream",
     "text": [
      "d:\\Project\\2024\\08-Agustus\\cnnsawit\\.venv\\Lib\\site-packages\\keras\\src\\layers\\convolutional\\base_conv.py:107: UserWarning: Do not pass an `input_shape`/`input_dim` argument to a layer. When using Sequential models, prefer using an `Input(shape)` object as the first layer in the model instead.\n",
      "  super().__init__(activity_regularizer=activity_regularizer, **kwargs)\n"
     ]
    },
    {
     "data": {
      "text/plain": [
       "<Sequential name=sequential, built=True>"
      ]
     },
     "execution_count": 2,
     "metadata": {},
     "output_type": "execute_result"
    }
   ],
   "source": [
    "import tensorflow as tf\n",
    "from tensorflow.keras.models import Sequential\n",
    "from tensorflow.keras.layers import Dense, Conv2D, Flatten, Dropout, MaxPooling2D\n",
    "from tensorflow.keras.preprocessing.image import ImageDataGenerator\n",
    "from tensorflow.keras.callbacks import EarlyStopping\n",
    "from tensorflow.keras.optimizers import Adam\n",
    "\n",
    "model = Sequential([\n",
    "    Conv2D(32, (3,3), activation='relu', input_shape=train_generator.image_shape),\n",
    "    MaxPooling2D(pool_size=(2, 2)),\n",
    "    Conv2D(64, (3,3), activation='relu'),\n",
    "    MaxPooling2D(pool_size=(2, 2)),\n",
    "    Conv2D(128, (3,3), activation='relu'),\n",
    "    MaxPooling2D(pool_size=(2, 2)),\n",
    "    Flatten(),\n",
    "    Dense(train_generator.image_shape[0], activation='relu'),\n",
    "    Dropout(0.5),\n",
    "    Dense(len(class_names), activation='softmax')\n",
    "])\n",
    "\n",
    "model.compile(optimizer=Adam(), loss='categorical_crossentropy', metrics=['accuracy'])\n",
    "model"
   ]
  },
  {
   "cell_type": "code",
   "execution_count": 3,
   "metadata": {},
   "outputs": [
    {
     "name": "stdout",
     "output_type": "stream",
     "text": [
      "Epoch 1/50\n"
     ]
    },
    {
     "name": "stderr",
     "output_type": "stream",
     "text": [
      "d:\\Project\\2024\\08-Agustus\\cnnsawit\\.venv\\Lib\\site-packages\\keras\\src\\trainers\\data_adapters\\py_dataset_adapter.py:121: UserWarning: Your `PyDataset` class should call `super().__init__(**kwargs)` in its constructor. `**kwargs` can include `workers`, `use_multiprocessing`, `max_queue_size`. Do not pass these arguments to `fit()`, as they will be ignored.\n",
      "  self._warn_if_super_not_called()\n"
     ]
    },
    {
     "name": "stdout",
     "output_type": "stream",
     "text": [
      "\u001b[1m3/3\u001b[0m \u001b[32m━━━━━━━━━━━━━━━━━━━━\u001b[0m\u001b[37m\u001b[0m \u001b[1m16s\u001b[0m 3s/step - accuracy: 0.5760 - loss: 3.9469 - val_accuracy: 0.7292 - val_loss: 3.2502\n",
      "Epoch 2/50\n",
      "\u001b[1m3/3\u001b[0m \u001b[32m━━━━━━━━━━━━━━━━━━━━\u001b[0m\u001b[37m\u001b[0m \u001b[1m2s\u001b[0m 92ms/step - accuracy: 0.7188 - loss: 2.4406 - val_accuracy: 0.7143 - val_loss: 0.5977\n",
      "Epoch 3/50\n"
     ]
    },
    {
     "name": "stderr",
     "output_type": "stream",
     "text": [
      "C:\\ProgramData\\anaconda3\\Lib\\contextlib.py:155: UserWarning: Your input ran out of data; interrupting training. Make sure that your dataset or generator can generate at least `steps_per_epoch * epochs` batches. You may need to use the `.repeat()` function when building your dataset.\n",
      "  self.gen.throw(typ, value, traceback)\n"
     ]
    },
    {
     "name": "stdout",
     "output_type": "stream",
     "text": [
      "\u001b[1m3/3\u001b[0m \u001b[32m━━━━━━━━━━━━━━━━━━━━\u001b[0m\u001b[37m\u001b[0m \u001b[1m6s\u001b[0m 2s/step - accuracy: 0.4691 - loss: 0.7898 - val_accuracy: 0.7500 - val_loss: 0.6006\n",
      "Epoch 4/50\n",
      "\u001b[1m3/3\u001b[0m \u001b[32m━━━━━━━━━━━━━━━━━━━━\u001b[0m\u001b[37m\u001b[0m \u001b[1m2s\u001b[0m 59ms/step - accuracy: 0.7188 - loss: 0.6465 - val_accuracy: 0.4286 - val_loss: 0.8733\n",
      "Epoch 5/50\n",
      "\u001b[1m3/3\u001b[0m \u001b[32m━━━━━━━━━━━━━━━━━━━━\u001b[0m\u001b[37m\u001b[0m \u001b[1m6s\u001b[0m 2s/step - accuracy: 0.7748 - loss: 0.5756 - val_accuracy: 0.7188 - val_loss: 0.6076\n",
      "Epoch 6/50\n",
      "\u001b[1m3/3\u001b[0m \u001b[32m━━━━━━━━━━━━━━━━━━━━\u001b[0m\u001b[37m\u001b[0m \u001b[1m2s\u001b[0m 62ms/step - accuracy: 0.6562 - loss: 0.6657 - val_accuracy: 0.8571 - val_loss: 0.4982\n",
      "Epoch 7/50\n",
      "\u001b[1m3/3\u001b[0m \u001b[32m━━━━━━━━━━━━━━━━━━━━\u001b[0m\u001b[37m\u001b[0m \u001b[1m7s\u001b[0m 2s/step - accuracy: 0.7852 - loss: 0.5753 - val_accuracy: 0.7292 - val_loss: 0.6122\n",
      "Epoch 8/50\n",
      "\u001b[1m3/3\u001b[0m \u001b[32m━━━━━━━━━━━━━━━━━━━━\u001b[0m\u001b[37m\u001b[0m \u001b[1m1s\u001b[0m 50ms/step - accuracy: 0.4286 - loss: 0.7588 - val_accuracy: 0.7143 - val_loss: 0.6297\n",
      "Epoch 9/50\n",
      "\u001b[1m3/3\u001b[0m \u001b[32m━━━━━━━━━━━━━━━━━━━━\u001b[0m\u001b[37m\u001b[0m \u001b[1m6s\u001b[0m 2s/step - accuracy: 0.6873 - loss: 0.6615 - val_accuracy: 0.7083 - val_loss: 0.6496\n",
      "Epoch 10/50\n",
      "\u001b[1m3/3\u001b[0m \u001b[32m━━━━━━━━━━━━━━━━━━━━\u001b[0m\u001b[37m\u001b[0m \u001b[1m2s\u001b[0m 54ms/step - accuracy: 0.7812 - loss: 0.6389 - val_accuracy: 1.0000 - val_loss: 0.5704\n",
      "Epoch 11/50\n",
      "\u001b[1m3/3\u001b[0m \u001b[32m━━━━━━━━━━━━━━━━━━━━\u001b[0m\u001b[37m\u001b[0m \u001b[1m6s\u001b[0m 1s/step - accuracy: 0.6982 - loss: 0.6535 - val_accuracy: 0.7500 - val_loss: 0.5872\n",
      "Epoch 12/50\n",
      "\u001b[1m3/3\u001b[0m \u001b[32m━━━━━━━━━━━━━━━━━━━━\u001b[0m\u001b[37m\u001b[0m \u001b[1m2s\u001b[0m 49ms/step - accuracy: 0.7188 - loss: 0.6021 - val_accuracy: 0.4286 - val_loss: 0.8520\n",
      "Epoch 13/50\n",
      "\u001b[1m3/3\u001b[0m \u001b[32m━━━━━━━━━━━━━━━━━━━━\u001b[0m\u001b[37m\u001b[0m \u001b[1m7s\u001b[0m 2s/step - accuracy: 0.7109 - loss: 0.6191 - val_accuracy: 0.7188 - val_loss: 0.6196\n",
      "Epoch 14/50\n",
      "\u001b[1m3/3\u001b[0m \u001b[32m━━━━━━━━━━━━━━━━━━━━\u001b[0m\u001b[37m\u001b[0m \u001b[1m1s\u001b[0m 47ms/step - accuracy: 0.8571 - loss: 0.4430 - val_accuracy: 0.8571 - val_loss: 0.4289\n",
      "Epoch 15/50\n",
      "\u001b[1m3/3\u001b[0m \u001b[32m━━━━━━━━━━━━━━━━━━━━\u001b[0m\u001b[37m\u001b[0m \u001b[1m6s\u001b[0m 2s/step - accuracy: 0.7111 - loss: 0.6005 - val_accuracy: 0.7396 - val_loss: 0.5877\n",
      "Epoch 16/50\n",
      "\u001b[1m3/3\u001b[0m \u001b[32m━━━━━━━━━━━━━━━━━━━━\u001b[0m\u001b[37m\u001b[0m \u001b[1m2s\u001b[0m 48ms/step - accuracy: 0.7188 - loss: 0.6198 - val_accuracy: 0.5714 - val_loss: 0.7882\n",
      "Epoch 17/50\n",
      "\u001b[1m3/3\u001b[0m \u001b[32m━━━━━━━━━━━━━━━━━━━━\u001b[0m\u001b[37m\u001b[0m \u001b[1m6s\u001b[0m 2s/step - accuracy: 0.6839 - loss: 0.5952 - val_accuracy: 0.7292 - val_loss: 0.5872\n",
      "Epoch 18/50\n",
      "\u001b[1m3/3\u001b[0m \u001b[32m━━━━━━━━━━━━━━━━━━━━\u001b[0m\u001b[37m\u001b[0m \u001b[1m2s\u001b[0m 45ms/step - accuracy: 0.8125 - loss: 0.5262 - val_accuracy: 0.7143 - val_loss: 0.6000\n",
      "Epoch 19/50\n",
      "\u001b[1m3/3\u001b[0m \u001b[32m━━━━━━━━━━━━━━━━━━━━\u001b[0m\u001b[37m\u001b[0m \u001b[1m6s\u001b[0m 2s/step - accuracy: 0.7553 - loss: 0.5839 - val_accuracy: 0.7396 - val_loss: 0.5747\n",
      "Epoch 20/50\n",
      "\u001b[1m3/3\u001b[0m \u001b[32m━━━━━━━━━━━━━━━━━━━━\u001b[0m\u001b[37m\u001b[0m \u001b[1m2s\u001b[0m 74ms/step - accuracy: 0.8125 - loss: 0.4989 - val_accuracy: 0.5714 - val_loss: 0.7671\n",
      "Epoch 21/50\n",
      "\u001b[1m3/3\u001b[0m \u001b[32m━━━━━━━━━━━━━━━━━━━━\u001b[0m\u001b[37m\u001b[0m \u001b[1m6s\u001b[0m 2s/step - accuracy: 0.7344 - loss: 0.5863 - val_accuracy: 0.7396 - val_loss: 0.5855\n",
      "Epoch 22/50\n",
      "\u001b[1m3/3\u001b[0m \u001b[32m━━━━━━━━━━━━━━━━━━━━\u001b[0m\u001b[37m\u001b[0m \u001b[1m1s\u001b[0m 47ms/step - accuracy: 0.8571 - loss: 0.4932 - val_accuracy: 0.5714 - val_loss: 0.8171\n",
      "Epoch 23/50\n",
      "\u001b[1m3/3\u001b[0m \u001b[32m━━━━━━━━━━━━━━━━━━━━\u001b[0m\u001b[37m\u001b[0m \u001b[1m6s\u001b[0m 2s/step - accuracy: 0.7474 - loss: 0.5933 - val_accuracy: 0.7188 - val_loss: 0.5988\n",
      "Epoch 24/50\n",
      "\u001b[1m3/3\u001b[0m \u001b[32m━━━━━━━━━━━━━━━━━━━━\u001b[0m\u001b[37m\u001b[0m \u001b[1m1s\u001b[0m 44ms/step - accuracy: 0.7143 - loss: 0.5174 - val_accuracy: 0.8571 - val_loss: 0.4401\n",
      "Epoch 25/50\n",
      "\u001b[1m3/3\u001b[0m \u001b[32m━━━━━━━━━━━━━━━━━━━━\u001b[0m\u001b[37m\u001b[0m \u001b[1m7s\u001b[0m 2s/step - accuracy: 0.7578 - loss: 0.5547 - val_accuracy: 0.7396 - val_loss: 0.5662\n",
      "Epoch 26/50\n",
      "\u001b[1m3/3\u001b[0m \u001b[32m━━━━━━━━━━━━━━━━━━━━\u001b[0m\u001b[37m\u001b[0m \u001b[1m1s\u001b[0m 44ms/step - accuracy: 0.4286 - loss: 0.8694 - val_accuracy: 0.5714 - val_loss: 0.7133\n",
      "Epoch 27/50\n",
      "\u001b[1m3/3\u001b[0m \u001b[32m━━━━━━━━━━━━━━━━━━━━\u001b[0m\u001b[37m\u001b[0m \u001b[1m7s\u001b[0m 2s/step - accuracy: 0.6954 - loss: 0.6153 - val_accuracy: 0.7396 - val_loss: 0.5858\n",
      "Epoch 28/50\n",
      "\u001b[1m3/3\u001b[0m \u001b[32m━━━━━━━━━━━━━━━━━━━━\u001b[0m\u001b[37m\u001b[0m \u001b[1m2s\u001b[0m 57ms/step - accuracy: 0.6562 - loss: 0.6467 - val_accuracy: 0.5714 - val_loss: 0.6714\n",
      "Epoch 29/50\n",
      "\u001b[1m3/3\u001b[0m \u001b[32m━━━━━━━━━━━━━━━━━━━━\u001b[0m\u001b[37m\u001b[0m \u001b[1m7s\u001b[0m 2s/step - accuracy: 0.7544 - loss: 0.5888 - val_accuracy: 0.7188 - val_loss: 0.5794\n",
      "Epoch 30/50\n",
      "\u001b[1m3/3\u001b[0m \u001b[32m━━━━━━━━━━━━━━━━━━━━\u001b[0m\u001b[37m\u001b[0m \u001b[1m2s\u001b[0m 94ms/step - accuracy: 0.6875 - loss: 0.6249 - val_accuracy: 0.8571 - val_loss: 0.4826\n",
      "Epoch 31/50\n",
      "\u001b[1m3/3\u001b[0m \u001b[32m━━━━━━━━━━━━━━━━━━━━\u001b[0m\u001b[37m\u001b[0m \u001b[1m21s\u001b[0m 9s/step - accuracy: 0.6821 - loss: 0.6263 - val_accuracy: 0.7188 - val_loss: 0.5795\n",
      "Epoch 32/50\n",
      "\u001b[1m3/3\u001b[0m \u001b[32m━━━━━━━━━━━━━━━━━━━━\u001b[0m\u001b[37m\u001b[0m \u001b[1m12s\u001b[0m 1s/step - accuracy: 0.7188 - loss: 0.6054 - val_accuracy: 0.8571 - val_loss: 0.4233\n",
      "Epoch 33/50\n",
      "\u001b[1m3/3\u001b[0m \u001b[32m━━━━━━━━━━━━━━━━━━━━\u001b[0m\u001b[37m\u001b[0m \u001b[1m37s\u001b[0m 10s/step - accuracy: 0.7266 - loss: 0.5745 - val_accuracy: 0.7396 - val_loss: 0.5699\n",
      "Epoch 34/50\n",
      "\u001b[1m3/3\u001b[0m \u001b[32m━━━━━━━━━━━━━━━━━━━━\u001b[0m\u001b[37m\u001b[0m \u001b[1m1s\u001b[0m 68ms/step - accuracy: 0.8571 - loss: 0.4711 - val_accuracy: 0.5714 - val_loss: 0.6687\n",
      "Epoch 35/50\n",
      "\u001b[1m3/3\u001b[0m \u001b[32m━━━━━━━━━━━━━━━━━━━━\u001b[0m\u001b[37m\u001b[0m \u001b[1m7s\u001b[0m 2s/step - accuracy: 0.7460 - loss: 0.5669 - val_accuracy: 0.7396 - val_loss: 0.5572\n",
      "Epoch 36/50\n",
      "\u001b[1m3/3\u001b[0m \u001b[32m━━━━━━━━━━━━━━━━━━━━\u001b[0m\u001b[37m\u001b[0m \u001b[1m2s\u001b[0m 67ms/step - accuracy: 0.7188 - loss: 0.6041 - val_accuracy: 0.5714 - val_loss: 0.7452\n",
      "Epoch 37/50\n",
      "\u001b[1m3/3\u001b[0m \u001b[32m━━━━━━━━━━━━━━━━━━━━\u001b[0m\u001b[37m\u001b[0m \u001b[1m6s\u001b[0m 1s/step - accuracy: 0.7537 - loss: 0.5420 - val_accuracy: 0.7292 - val_loss: 0.5646\n",
      "Epoch 38/50\n",
      "\u001b[1m3/3\u001b[0m \u001b[32m━━━━━━━━━━━━━━━━━━━━\u001b[0m\u001b[37m\u001b[0m \u001b[1m1s\u001b[0m 65ms/step - accuracy: 0.6562 - loss: 0.7097 - val_accuracy: 0.7143 - val_loss: 0.5599\n",
      "Epoch 39/50\n",
      "\u001b[1m3/3\u001b[0m \u001b[32m━━━━━━━━━━━━━━━━━━━━\u001b[0m\u001b[37m\u001b[0m \u001b[1m5s\u001b[0m 1s/step - accuracy: 0.7678 - loss: 0.5221 - val_accuracy: 0.7396 - val_loss: 0.5804\n",
      "Epoch 40/50\n",
      "\u001b[1m3/3\u001b[0m \u001b[32m━━━━━━━━━━━━━━━━━━━━\u001b[0m\u001b[37m\u001b[0m \u001b[1m2s\u001b[0m 59ms/step - accuracy: 0.6875 - loss: 0.6238 - val_accuracy: 0.5714 - val_loss: 0.6589\n",
      "Epoch 41/50\n",
      "\u001b[1m3/3\u001b[0m \u001b[32m━━━━━━━━━━━━━━━━━━━━\u001b[0m\u001b[37m\u001b[0m \u001b[1m6s\u001b[0m 2s/step - accuracy: 0.7201 - loss: 0.5838 - val_accuracy: 0.7396 - val_loss: 0.5984\n",
      "Epoch 42/50\n",
      "\u001b[1m3/3\u001b[0m \u001b[32m━━━━━━━━━━━━━━━━━━━━\u001b[0m\u001b[37m\u001b[0m \u001b[1m1s\u001b[0m 44ms/step - accuracy: 0.7143 - loss: 0.6305 - val_accuracy: 0.5714 - val_loss: 0.6792\n",
      "Epoch 43/50\n",
      "\u001b[1m3/3\u001b[0m \u001b[32m━━━━━━━━━━━━━━━━━━━━\u001b[0m\u001b[37m\u001b[0m \u001b[1m5s\u001b[0m 2s/step - accuracy: 0.7178 - loss: 0.6065 - val_accuracy: 0.7188 - val_loss: 0.5703\n",
      "Epoch 44/50\n",
      "\u001b[1m3/3\u001b[0m \u001b[32m━━━━━━━━━━━━━━━━━━━━\u001b[0m\u001b[37m\u001b[0m \u001b[1m1s\u001b[0m 58ms/step - accuracy: 0.7188 - loss: 0.5795 - val_accuracy: 0.8571 - val_loss: 0.4363\n",
      "Epoch 45/50\n",
      "\u001b[1m3/3\u001b[0m \u001b[32m━━━━━━━━━━━━━━━━━━━━\u001b[0m\u001b[37m\u001b[0m \u001b[1m5s\u001b[0m 2s/step - accuracy: 0.7318 - loss: 0.5718 - val_accuracy: 0.7500 - val_loss: 0.5361\n",
      "Epoch 46/50\n",
      "\u001b[1m3/3\u001b[0m \u001b[32m━━━━━━━━━━━━━━━━━━━━\u001b[0m\u001b[37m\u001b[0m \u001b[1m1s\u001b[0m 55ms/step - accuracy: 0.8438 - loss: 0.4410 - val_accuracy: 0.4286 - val_loss: 0.8501\n",
      "Epoch 47/50\n",
      "\u001b[1m3/3\u001b[0m \u001b[32m━━━━━━━━━━━━━━━━━━━━\u001b[0m\u001b[37m\u001b[0m \u001b[1m5s\u001b[0m 2s/step - accuracy: 0.7471 - loss: 0.5316 - val_accuracy: 0.7292 - val_loss: 0.5587\n",
      "Epoch 48/50\n",
      "\u001b[1m3/3\u001b[0m \u001b[32m━━━━━━━━━━━━━━━━━━━━\u001b[0m\u001b[37m\u001b[0m \u001b[1m2s\u001b[0m 52ms/step - accuracy: 0.7188 - loss: 0.6074 - val_accuracy: 0.7143 - val_loss: 0.5126\n",
      "Epoch 49/50\n",
      "\u001b[1m3/3\u001b[0m \u001b[32m━━━━━━━━━━━━━━━━━━━━\u001b[0m\u001b[37m\u001b[0m \u001b[1m5s\u001b[0m 1s/step - accuracy: 0.6912 - loss: 0.6573 - val_accuracy: 0.7188 - val_loss: 0.5894\n",
      "Epoch 50/50\n",
      "\u001b[1m3/3\u001b[0m \u001b[32m━━━━━━━━━━━━━━━━━━━━\u001b[0m\u001b[37m\u001b[0m \u001b[1m1s\u001b[0m 48ms/step - accuracy: 0.7500 - loss: 0.5876 - val_accuracy: 0.8571 - val_loss: 0.5555\n"
     ]
    }
   ],
   "source": [
    "history = model.fit(\n",
    "    train_generator,\n",
    "    steps_per_epoch=train_generator.samples // train_generator.batch_size,\n",
    "    validation_data=valid_generator,\n",
    "    validation_steps=valid_generator.samples // valid_generator.batch_size,\n",
    "    epochs=50\n",
    "    )"
   ]
  },
  {
   "cell_type": "code",
   "execution_count": 11,
   "metadata": {},
   "outputs": [
    {
     "data": {
      "image/png": "[encoded data removed]",
      "text/plain": [
       "<Figure size 640x480 with 1 Axes>"
      ]
     },
     "metadata": {},
     "output_type": "display_data"
    }
   ],
   "source": [
    "import matplotlib.pyplot as plt\n",
    "\n",
    "plt.plot(history.history['accuracy'])\n",
    "plt.plot(history.history['val_accuracy'])\n",
    "plt.title('Model Accuracy')\n",
    "plt.ylabel('Accuracy')\n",
    "plt.xlabel('Epoch')\n",
    "plt.legend(['Train', 'Validation'], loc='upper left')\n",
    "plt.show()"
   ]
  },
  {
   "cell_type": "code",
   "execution_count": 20,
   "metadata": {},
   "outputs": [],
   "source": [
    "import pickle\n",
    "\n",
    "with open('models/a.pkl', 'wb') as file_pi:\n",
    "    pickle.dump(history.history, file_pi)"
   ]
  },
  {
   "cell_type": "code",
   "execution_count": null,
   "metadata": {},
   "outputs": [
    {
     "ename": "",
     "evalue": "",
     "output_type": "error",
     "traceback": [
      "\u001b[1;31mRunning cells with '.venv (Python 3.11.9)' requires the ipykernel package.\n",
      "\u001b[1;31mRun the following command to install 'ipykernel' into the Python environment. \n",
      "\u001b[1;31mCommand: 'd:/PROYEK/cnnsawit/.venv/Scripts/python.exe -m pip install ipykernel -U --force-reinstall'"
     ]
    }
   ],
   "source": [
    "import numpy as np\n",
    "\n",
    "for images, labels in train_generator:\n",
    "    num_images = min(len(images), 9)\n",
    "    fig, axs = plt.subplots(1, num_images, figsize=(15, 3))\n",
    "    fig.suptitle('Sample Images')\n",
    "    if num_images == 1:\n",
    "        axs = [axs]\n",
    "\n",
    "    for i in range(num_images):\n",
    "        axs[i].imshow(images[i])\n",
    "        axs[i].set_title('Label: ' + class_names[np.argmax(labels[i])])\n",
    "        axs[i].axis('off')\n",
    "\n",
    "    plt.show()\n",
    "    break"
   ]
  },
  {
   "cell_type": "code",
   "execution_count": 6,
   "metadata": {},
   "outputs": [
    {
     "name": "stdout",
     "output_type": "stream",
     "text": [
      "\u001b[1m4/4\u001b[0m \u001b[32m━━━━━━━━━━━━━━━━━━━━\u001b[0m\u001b[37m\u001b[0m \u001b[1m2s\u001b[0m 316ms/step - accuracy: 0.7371 - loss: 0.6014\n",
      "Akurasi: 72.81553149223328%\n"
     ]
    }
   ],
   "source": [
    "scores = model.evaluate(valid_generator)\n",
    "print(f'Akurasi: {scores[1]*100}%')"
   ]
  },
  {
   "cell_type": "code",
   "execution_count": 7,
   "metadata": {},
   "outputs": [],
   "source": [
    "from tensorflow.keras.preprocessing import image \n",
    "import numpy as np\n",
    "\n",
    "def predict_image(model, image_path, target_size=(256, 256)):\n",
    "    img = image.load_img(image_path, target_size=target_size)\n",
    "    img_array = image.img_to_array(img)\n",
    "    img_array = np.expand_dims(img_array, axis=0)\n",
    "    img_array = img_array / 255.\n",
    "\n",
    "    predictions = model.predict(img_array)\n",
    "    predicted_class = np.argmax(predictions, axis=1)\n",
    "    return predicted_class, predictions"
   ]
  },
  {
   "cell_type": "code",
   "execution_count": 8,
   "metadata": {},
   "outputs": [
    {
     "name": "stdout",
     "output_type": "stream",
     "text": [
      "\u001b[1m1/1\u001b[0m \u001b[32m━━━━━━━━━━━━━━━━━━━━\u001b[0m\u001b[37m\u001b[0m \u001b[1m0s\u001b[0m 338ms/step\n"
     ]
    }
   ],
   "source": [
    "new_image_path = 'flaskr/static/img/dataset/antraknosa/15.jpg'\n",
    "\n",
    "predicted_class, predictions = predict_image(model, new_image_path)"
   ]
  },
  {
   "cell_type": "code",
   "execution_count": 9,
   "metadata": {},
   "outputs": [
    {
     "name": "stdout",
     "output_type": "stream",
     "text": [
      "Predicted Class: 0\n",
      "Predicted Label: antraknosa\n",
      "Predictions: [0.5953495 0.4046505]\n"
     ]
    }
   ],
   "source": [
    "class_labels = list(train_generator.class_indices.keys())\n",
    "predicted_label = class_labels[predicted_class[0]]\n",
    "\n",
    "print(f'Predicted Class: {predicted_class[0]}')\n",
    "print(f'Predicted Label: {predicted_label}')\n",
    "print(f'Predictions: {predictions[0]}')"
   ]
  },
  {
   "cell_type": "code",
   "execution_count": 21,
   "metadata": {},
   "outputs": [
    {
     "data": {
      "text/plain": [
       "{'antraknosa': ['antraknosa/1.jpg',\n",
       "  'antraknosa/10.jpg',\n",
       "  'antraknosa/11.jpg',\n",
       "  'antraknosa/12.jpg',\n",
       "  'antraknosa/13.jpg',\n",
       "  'antraknosa/14.jpg',\n",
       "  'antraknosa/15.jpg',\n",
       "  'antraknosa/16.jpg',\n",
       "  'antraknosa/17.jpg',\n",
       "  'antraknosa/18.jpg',\n",
       "  'antraknosa/19.jpg',\n",
       "  'antraknosa/2.jpg',\n",
       "  'antraknosa/20.jpg',\n",
       "  'antraknosa/21.jpg',\n",
       "  'antraknosa/22.jpg',\n",
       "  'antraknosa/23.jpg',\n",
       "  'antraknosa/24.jpg',\n",
       "  'antraknosa/25.jpg',\n",
       "  'antraknosa/26.jpg',\n",
       "  'antraknosa/27.jpg',\n",
       "  'antraknosa/28.jpg',\n",
       "  'antraknosa/29.jpg',\n",
       "  'antraknosa/3.jpg',\n",
       "  'antraknosa/30.jpg',\n",
       "  'antraknosa/31.jpg',\n",
       "  'antraknosa/32.jpg',\n",
       "  'antraknosa/33.jpg',\n",
       "  'antraknosa/34.jpg',\n",
       "  'antraknosa/35.jpg',\n",
       "  'antraknosa/36.jpg',\n",
       "  'antraknosa/37.jpg',\n",
       "  'antraknosa/38.jpg',\n",
       "  'antraknosa/39.jpg',\n",
       "  'antraknosa/4.jpg',\n",
       "  'antraknosa/40.jpg',\n",
       "  'antraknosa/41.jpg',\n",
       "  'antraknosa/42.jpg',\n",
       "  'antraknosa/43.jpg',\n",
       "  'antraknosa/44.jpg',\n",
       "  'antraknosa/45.jpg',\n",
       "  'antraknosa/46.jpg',\n",
       "  'antraknosa/47.jpg',\n",
       "  'antraknosa/48.jpg',\n",
       "  'antraknosa/49.jpg',\n",
       "  'antraknosa/5.jpg',\n",
       "  'antraknosa/50.jpg',\n",
       "  'antraknosa/51.jpg',\n",
       "  'antraknosa/52.jpg',\n",
       "  'antraknosa/53.jpg',\n",
       "  'antraknosa/54.jpg',\n",
       "  'antraknosa/55.jpg',\n",
       "  'antraknosa/56.jpg',\n",
       "  'antraknosa/57.jpg',\n",
       "  'antraknosa/58.jpg',\n",
       "  'antraknosa/59.jpg',\n",
       "  'antraknosa/6.jpg',\n",
       "  'antraknosa/60.jpg',\n",
       "  'antraknosa/61.jpg',\n",
       "  'antraknosa/62.jpg',\n",
       "  'antraknosa/63.jpg',\n",
       "  'antraknosa/64.jpg',\n",
       "  'antraknosa/65.jpg',\n",
       "  'antraknosa/66.jpg',\n",
       "  'antraknosa/67.jpg',\n",
       "  'antraknosa/68.jpg',\n",
       "  'antraknosa/69.jpg',\n",
       "  'antraknosa/7.jpg',\n",
       "  'antraknosa/70.jpg',\n",
       "  'antraknosa/71.jpg',\n",
       "  'antraknosa/72.jpg',\n",
       "  'antraknosa/73.jpg',\n",
       "  'antraknosa/74.jpg',\n",
       "  'antraknosa/75.jpg',\n",
       "  'antraknosa/8.jpg',\n",
       "  'antraknosa/9.jpg'],\n",
       " 'culvularia_sp': ['culvularia_sp/100.jpg',\n",
       "  'culvularia_sp/101.jpg',\n",
       "  'culvularia_sp/102.jpg',\n",
       "  'culvularia_sp/103.jpg',\n",
       "  'culvularia_sp/76.jpg',\n",
       "  'culvularia_sp/77.jpg',\n",
       "  'culvularia_sp/78.jpg',\n",
       "  'culvularia_sp/79.jpg',\n",
       "  'culvularia_sp/80.jpg',\n",
       "  'culvularia_sp/81.jpg',\n",
       "  'culvularia_sp/82.jpg',\n",
       "  'culvularia_sp/83.jpg',\n",
       "  'culvularia_sp/84.jpg',\n",
       "  'culvularia_sp/85.jpg',\n",
       "  'culvularia_sp/86.jpg',\n",
       "  'culvularia_sp/87.jpg',\n",
       "  'culvularia_sp/88.jpg',\n",
       "  'culvularia_sp/89.jpg',\n",
       "  'culvularia_sp/90.jpg',\n",
       "  'culvularia_sp/91.jpg',\n",
       "  'culvularia_sp/92.jpg',\n",
       "  'culvularia_sp/93.jpg',\n",
       "  'culvularia_sp/94.jpg',\n",
       "  'culvularia_sp/95.jpg',\n",
       "  'culvularia_sp/96.jpg',\n",
       "  'culvularia_sp/97.jpg',\n",
       "  'culvularia_sp/98.jpg',\n",
       "  'culvularia_sp/99.jpg']}"
      ]
     },
     "execution_count": 21,
     "metadata": {},
     "output_type": "execute_result"
    }
   ],
   "source": [
    "import pathlib\n",
    "desktop = pathlib.Path(\"flaskr/static/img/dataset\")\n",
    "\n",
    "images = list(filter(lambda item: item.is_file(), desktop.rglob(\"*.jpg\")))\n",
    "urls = {}\n",
    "\n",
    "for image in images:\n",
    "    name = image.as_posix().replace(desktop.as_posix() + \"/\", \"\")\n",
    "    if name.split(\"/\")[0] not in urls:\n",
    "        urls[name.split(\"/\")[0]] = [name]\n",
    "    else:\n",
    "        urls[name.split(\"/\")[0]].append(name)\n",
    "urls"
   ]
  },
  {
   "cell_type": "code",
   "execution_count": 24,
   "metadata": {},
   "outputs": [],
   "source": [
    "model.save('models/a.keras')"
   ]
  }
 ],
 "metadata": {
  "kernelspec": {
   "display_name": ".venv",
   "language": "python",
   "name": "python3"
  },
  "language_info": {
   "codemirror_mode": {
    "name": "ipython",
    "version": 3
   },
   "file_extension": ".py",
   "mimetype": "text/x-python",
   "name": "python",
   "nbconvert_exporter": "python",
   "pygments_lexer": "ipython3",
   "version": "3.11.9"
  }
 },
 "nbformat": 4,
 "nbformat_minor": 2
}
